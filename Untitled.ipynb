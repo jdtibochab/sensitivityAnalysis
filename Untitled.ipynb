{
 "cells": [
  {
   "cell_type": "code",
   "execution_count": 1,
   "metadata": {},
   "outputs": [],
   "source": [
    "import cobra\n",
    "from os import listdir\n",
    "from os.path import isfile, join\n",
    "import numpy as np\n",
    "\n",
    "model_dir = './all_models/'\n",
    "onlyfiles = [f for f in listdir(model_dir) if isfile(join(model_dir, f))]\n",
    "onlyfiles = np.sort(onlyfiles)"
   ]
  },
  {
   "cell_type": "code",
   "execution_count": 2,
   "metadata": {},
   "outputs": [
    {
     "name": "stdout",
     "output_type": "stream",
     "text": [
      "saving json\n",
      "Error... check Model_CHO_1.mat\n",
      "saving json\n",
      "Error... check Model_CHO_2.mat\n",
      "saving json\n",
      "Error... check Model_CHO_3.mat\n",
      "saving json\n",
      "Error... check Model_CHO_4.mat\n",
      "saving json\n",
      "Error... check Model_CHO_5.mat\n",
      "saving json\n",
      "Error... check Model_CHO_6.mat\n",
      "saving json\n",
      "Error... check Model_HT_1.mat\n",
      "saving json\n",
      "Error... check Model_HT_2.mat\n",
      "saving json\n",
      "Error... check Model_HT_3.mat\n",
      "saving json\n",
      "Error... check Model_HT_4.mat\n",
      "saving json\n",
      "Error... check Model_HT_5.mat\n",
      "saving json\n",
      "Error... check Model_HT_6.mat\n"
     ]
    },
    {
     "name": "stderr",
     "output_type": "stream",
     "text": [
      "cobra/core/reaction.py:446 \u001b[1;31mUserWarning\u001b[0m: malformed gene_reaction_rule '[]' for <Reaction VIOXANth at 0x7f77c8be1150>\n"
     ]
    },
    {
     "name": "stdout",
     "output_type": "stream",
     "text": [
      "saving json\n",
      "Error... check Model_PA_1.mat\n"
     ]
    },
    {
     "name": "stderr",
     "output_type": "stream",
     "text": [
      "cobra/core/reaction.py:446 \u001b[1;31mUserWarning\u001b[0m: malformed gene_reaction_rule '[]' for <Reaction VIOXANth at 0x7f77be31d810>\n"
     ]
    },
    {
     "name": "stdout",
     "output_type": "stream",
     "text": [
      "saving json\n",
      "Error... check Model_PA_2.mat\n"
     ]
    },
    {
     "name": "stderr",
     "output_type": "stream",
     "text": [
      "cobra/core/reaction.py:446 \u001b[1;31mUserWarning\u001b[0m: malformed gene_reaction_rule '[]' for <Reaction VIOXANth at 0x7f77bc9e8850>\n"
     ]
    },
    {
     "name": "stdout",
     "output_type": "stream",
     "text": [
      "saving json\n",
      "Error... check Model_PA_3.mat\n"
     ]
    },
    {
     "name": "stderr",
     "output_type": "stream",
     "text": [
      "cobra/core/reaction.py:446 \u001b[1;31mUserWarning\u001b[0m: malformed gene_reaction_rule '[]' for <Reaction VIOXANth at 0x7f77ba949ad0>\n"
     ]
    },
    {
     "name": "stdout",
     "output_type": "stream",
     "text": [
      "saving json\n",
      "Error... check Model_PA_4.mat\n"
     ]
    },
    {
     "name": "stderr",
     "output_type": "stream",
     "text": [
      "cobra/core/reaction.py:446 \u001b[1;31mUserWarning\u001b[0m: malformed gene_reaction_rule '[]' for <Reaction VIOXANth at 0x7f77be18ce50>\n"
     ]
    },
    {
     "name": "stdout",
     "output_type": "stream",
     "text": [
      "saving json\n",
      "Error... check Model_PA_5.mat\n"
     ]
    },
    {
     "name": "stderr",
     "output_type": "stream",
     "text": [
      "cobra/core/reaction.py:446 \u001b[1;31mUserWarning\u001b[0m: malformed gene_reaction_rule '[]' for <Reaction VIOXANth at 0x7f77bc7f1e50>\n"
     ]
    },
    {
     "name": "stdout",
     "output_type": "stream",
     "text": [
      "saving json\n",
      "Error... check Model_PA_6.mat\n",
      "saving json\n",
      "Error... check Model_PtHT_1.mat\n",
      "saving json\n",
      "Error... check Model_PtHT_2.mat\n",
      "saving json\n",
      "Error... check Model_PtHT_3.mat\n",
      "saving json\n",
      "Error... check Model_PtHT_4.mat\n",
      "saving json\n",
      "Error... check Model_PtHT_5.mat\n",
      "saving json\n",
      "Error... check Model_PtHT_6.mat\n",
      "saving json\n",
      "Error... check Model_Pt_1.mat\n",
      "saving json\n",
      "Error... check Model_Pt_2.mat\n",
      "saving json\n",
      "Error... check Model_Pt_3.mat\n",
      "saving json\n",
      "Error... check Model_Pt_4.mat\n",
      "saving json\n",
      "Error... check Model_Pt_5.mat\n",
      "saving json\n",
      "Error... check Model_Pt_6.mat\n",
      "saving json\n",
      "Error... check Model_Sc_1.mat\n",
      "saving json\n",
      "Error... check Model_Sc_2.mat\n",
      "saving json\n",
      "Error... check Model_Sc_3.mat\n",
      "saving json\n",
      "Error... check Model_Sc_4.mat\n",
      "saving json\n",
      "Error... check Model_Sc_5.mat\n",
      "saving json\n",
      "Error... check Model_Sc_6.mat\n",
      "saving json\n",
      "Error... check Model_Yl_1.mat\n",
      "saving json\n",
      "Error... check Model_Yl_2.mat\n",
      "saving json\n",
      "Error... check Model_Yl_3.mat\n",
      "saving json\n",
      "Error... check Model_Yl_4.mat\n",
      "saving json\n",
      "Error... check Model_Yl_5.mat\n",
      "saving json\n",
      "Error... check Model_Yl_6.mat\n"
     ]
    }
   ],
   "source": [
    "for file in onlyfiles:\n",
    "    try:\n",
    "        model  = cobra.io.load_matlab_model(model_dir+file)\n",
    "        print('saving json')\n",
    "        cobra.io.save_json_model(model_dir+file.split('.')[0]+'.json',model)\n",
    "        print('saving sbml')\n",
    "        cobra.io.write_sbml_model(model_dir+file.split('.')[0]+'.xml',model)\n",
    "    except:\n",
    "        print('Error... check '+file)"
   ]
  },
  {
   "cell_type": "code",
   "execution_count": 8,
   "metadata": {},
   "outputs": [
    {
     "data": {
      "text/plain": [
       "array(['Model_CHO_1.mat', 'Model_CHO_2.mat', 'Model_CHO_3.mat',\n",
       "       'Model_CHO_4.mat', 'Model_CHO_5.mat', 'Model_CHO_6.mat',\n",
       "       'Model_HT_1.mat', 'Model_HT_2.mat', 'Model_HT_3.mat',\n",
       "       'Model_HT_4.mat', 'Model_HT_5.mat', 'Model_HT_6.mat',\n",
       "       'Model_PA_1.mat', 'Model_PA_2.mat', 'Model_PA_3.mat',\n",
       "       'Model_PA_4.mat', 'Model_PA_5.mat', 'Model_PA_6.mat',\n",
       "       'Model_PtHT_1.mat', 'Model_PtHT_2.mat', 'Model_PtHT_3.mat',\n",
       "       'Model_PtHT_4.mat', 'Model_PtHT_5.mat', 'Model_PtHT_6.mat',\n",
       "       'Model_Pt_1.mat', 'Model_Pt_2.mat', 'Model_Pt_3.mat',\n",
       "       'Model_Pt_4.mat', 'Model_Pt_5.mat', 'Model_Pt_6.mat',\n",
       "       'Model_Sc_1.mat', 'Model_Sc_2.mat', 'Model_Sc_3.mat',\n",
       "       'Model_Sc_4.mat', 'Model_Sc_5.mat', 'Model_Sc_6.mat',\n",
       "       'Model_Yl_1.mat', 'Model_Yl_2.mat', 'Model_Yl_3.mat',\n",
       "       'Model_Yl_4.mat', 'Model_Yl_5.mat', 'Model_Yl_6.mat'], dtype='<U16')"
      ]
     },
     "execution_count": 8,
     "metadata": {},
     "output_type": "execute_result"
    }
   ],
   "source": []
  },
  {
   "cell_type": "code",
   "execution_count": null,
   "metadata": {},
   "outputs": [],
   "source": []
  }
 ],
 "metadata": {
  "kernelspec": {
   "display_name": "Python 3",
   "language": "python",
   "name": "python3"
  },
  "language_info": {
   "codemirror_mode": {
    "name": "ipython",
    "version": 3
   },
   "file_extension": ".py",
   "mimetype": "text/x-python",
   "name": "python",
   "nbconvert_exporter": "python",
   "pygments_lexer": "ipython3",
   "version": "3.7.4"
  }
 },
 "nbformat": 4,
 "nbformat_minor": 4
}
